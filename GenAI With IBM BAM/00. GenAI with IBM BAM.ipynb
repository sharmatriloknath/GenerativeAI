{
 "cells": [
  {
   "cell_type": "markdown",
   "id": "bc012bcd",
   "metadata": {},
   "source": [
    "## Genearative AI with IBM BAM\n",
    "- install required libraries `requirement.txt`\n",
    "- load env variables from `.env`"
   ]
  },
  {
   "cell_type": "code",
   "execution_count": 1,
   "id": "2b9fb80b",
   "metadata": {},
   "outputs": [],
   "source": [
    "import os\n",
    "from dotenv import load_dotenv\n",
    "\n",
    "load_dotenv()\n",
    "my_api_key = os.getenv(\"GENAI_KEY\", None)\n",
    "my_api_endpoint = os.getenv(\"GENAI_API\", None)"
   ]
  },
  {
   "cell_type": "markdown",
   "id": "4ffb0dc1",
   "metadata": {},
   "source": [
    "## Get model from BAM.\n",
    "- Prepare params for model with sdk class `GenerateParams`.\n",
    "- Create Creds Object with `Credentials`.\n",
    "- Load model and send prompt."
   ]
  },
  {
   "cell_type": "code",
   "execution_count": 3,
   "id": "a20cda3e",
   "metadata": {},
   "outputs": [
    {
     "name": "stderr",
     "output_type": "stream",
     "text": [
      "C:\\Users\\003EPO744\\Desktop\\LearningTechs\\GenerativeAI\\env\\lib\\site-packages\\genai\\schemas\\__init__.py:10: DeprecationWarning: \u001b[33;20m\n",
      "The class ModelType is being deprecated.\n",
      "Please replace any reference to ModelType by its model id string equivalent.\n",
      "Example :\n",
      "  ModelType.FLAN_T5 becomes \"google/flan-t5-xxl\"\u001b[0m\n",
      "\n",
      "  from genai.schemas.models import ModelType\n"
     ]
    },
    {
     "name": "stdout",
     "output_type": "stream",
     "text": [
      "\n",
      "------------- Example (Greetings)-------------\n",
      "\n",
      "Generated text: Good, you?\n",
      "Generated text: I am fine and you?\n",
      "Generated text: Good.\n",
      "Generated text: How are you?\n",
      "Generated text: Good, thanks!\n",
      "Generated text: How are you?\n",
      "Generated text: I'm fine.\n",
      "Generated text: okay\n"
     ]
    }
   ],
   "source": [
    "from genai.model import Credentials\n",
    "from genai.schemas import GenerateParams\n",
    "from genai.model import Model\n",
    "\n",
    "# Using Python \"with\" context\n",
    "print(\"\\n------------- Example (Greetings)-------------\\n\")\n",
    "\n",
    "# Instantiate the GENAI Proxy Object\n",
    "params = GenerateParams(\n",
    "    decoding_method=\"sample\",\n",
    "    max_new_tokens=10,\n",
    "    min_new_tokens=1,\n",
    "    stream=False,\n",
    "    temperature=0.7,\n",
    "    top_k=50,\n",
    "    top_p=1,\n",
    ")\n",
    "\n",
    "# creds object\n",
    "creds = Credentials(api_key=my_api_key, api_endpoint=my_api_endpoint)\n",
    "# model object\n",
    "model = Model(\"google/flan-ul2\", params=params, credentials=creds)\n",
    "\n",
    "greeting1 = \"Hello! How are you?\"\n",
    "greeting2 = \"I am fine and you?\"\n",
    "\n",
    "# Call generate function\n",
    "responses = model.generate_as_completed([greeting1, greeting2] * 4)\n",
    "for response in responses:\n",
    "    print(f\"Generated text: {response.generated_text}\")"
   ]
  },
  {
   "cell_type": "code",
   "execution_count": null,
   "id": "3bab2843",
   "metadata": {},
   "outputs": [],
   "source": []
  }
 ],
 "metadata": {
  "kernelspec": {
   "display_name": "Python 3 (ipykernel)",
   "language": "python",
   "name": "python3"
  },
  "language_info": {
   "codemirror_mode": {
    "name": "ipython",
    "version": 3
   },
   "file_extension": ".py",
   "mimetype": "text/x-python",
   "name": "python",
   "nbconvert_exporter": "python",
   "pygments_lexer": "ipython3",
   "version": "3.9.8"
  }
 },
 "nbformat": 4,
 "nbformat_minor": 5
}
